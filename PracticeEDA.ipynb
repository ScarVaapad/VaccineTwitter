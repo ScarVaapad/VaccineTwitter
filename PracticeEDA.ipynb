{
 "cells": [
  {
   "cell_type": "code",
   "execution_count": 1,
   "metadata": {},
   "outputs": [],
   "source": [
    "#below is from https://medium.com/analytics-vidhya/exploratory-data-analysis-for-beginner-7488d587f1ec\n",
    "\n",
    "import pandas as pd\n",
    "import numpy as np\n",
    "import matplotlib.pyplot as plt\n",
    "%matplotlib inline\n",
    "import seaborn as sns\n",
    "sns.set(style = \"ticks\")  \n",
    "#style = 'dark','darkgrid','whitegrid' are some other styles "
   ]
  },
  {
   "cell_type": "code",
   "execution_count": 2,
   "metadata": {},
   "outputs": [],
   "source": [
    "hydrated = pd.read_csv(r'data\\COMPLETEhydrated.csv', dtype = 'unicode')"
   ]
  },
  {
   "cell_type": "code",
   "execution_count": 3,
   "metadata": {},
   "outputs": [
    {
     "data": {
      "text/html": [
       "<div>\n",
       "<style scoped>\n",
       "    .dataframe tbody tr th:only-of-type {\n",
       "        vertical-align: middle;\n",
       "    }\n",
       "\n",
       "    .dataframe tbody tr th {\n",
       "        vertical-align: top;\n",
       "    }\n",
       "\n",
       "    .dataframe thead th {\n",
       "        text-align: right;\n",
       "    }\n",
       "</style>\n",
       "<table border=\"1\" class=\"dataframe\">\n",
       "  <thead>\n",
       "    <tr style=\"text-align: right;\">\n",
       "      <th></th>\n",
       "      <th>Unnamed: 0</th>\n",
       "      <th>Unnamed: 0.1</th>\n",
       "      <th>Unnamed: 0.1.1</th>\n",
       "      <th>id_str</th>\n",
       "      <th>letter_id_str</th>\n",
       "      <th>from_user</th>\n",
       "      <th>text</th>\n",
       "      <th>created_at</th>\n",
       "      <th>user_lang</th>\n",
       "      <th>from_user_id_str</th>\n",
       "      <th>...</th>\n",
       "      <th>status_url</th>\n",
       "      <th>retweet_count</th>\n",
       "      <th>favorite_count</th>\n",
       "      <th>user_description</th>\n",
       "      <th>user_created_at</th>\n",
       "      <th>user_listed_count</th>\n",
       "      <th>user_statuses _count</th>\n",
       "      <th>user_profile_background_image_url</th>\n",
       "      <th>user_verified</th>\n",
       "      <th>user_favourites_count</th>\n",
       "    </tr>\n",
       "  </thead>\n",
       "  <tbody>\n",
       "    <tr>\n",
       "      <th>0</th>\n",
       "      <td>0</td>\n",
       "      <td>0</td>\n",
       "      <td>0</td>\n",
       "      <td>1.32E+18</td>\n",
       "      <td>v1320095827738624000</td>\n",
       "      <td>theluthier63</td>\n",
       "      <td>RT @davietweetsc: Gulf War Syndrome: Documents...</td>\n",
       "      <td>Sat Oct 24 20:12:26 +0000 2020</td>\n",
       "      <td>NaN</td>\n",
       "      <td>9.03E+17</td>\n",
       "      <td>...</td>\n",
       "      <td>http://twitter.com/theluthier63/statuses/13200...</td>\n",
       "      <td>2</td>\n",
       "      <td>NaN</td>\n",
       "      <td>falklands Gulf war 1 veteran Sir Galahad  surv...</td>\n",
       "      <td>Tue Aug 29 14:36:09 +0000 2017</td>\n",
       "      <td>NaN</td>\n",
       "      <td>35836</td>\n",
       "      <td>NaN</td>\n",
       "      <td>NaN</td>\n",
       "      <td>41994</td>\n",
       "    </tr>\n",
       "    <tr>\n",
       "      <th>1</th>\n",
       "      <td>1</td>\n",
       "      <td>1</td>\n",
       "      <td>1</td>\n",
       "      <td>1.32E+18</td>\n",
       "      <td>v1320089561159094273</td>\n",
       "      <td>realBenTalks</td>\n",
       "      <td>Governor Cuomo Announces Draft New York State ...</td>\n",
       "      <td>Sat Oct 24 19:47:32 +0000 2020</td>\n",
       "      <td>NaN</td>\n",
       "      <td>226310002</td>\n",
       "      <td>...</td>\n",
       "      <td>http://twitter.com/realBenTalks/statuses/13200...</td>\n",
       "      <td>NaN</td>\n",
       "      <td>NaN</td>\n",
       "      <td>#Information #Scientist | MLIS @UWM | #IT &amp; #M...</td>\n",
       "      <td>Mon Dec 13 21:24:29 +0000 2010</td>\n",
       "      <td>3193</td>\n",
       "      <td>972305</td>\n",
       "      <td>http://abs.twimg.com/images/themes/theme1/bg.png</td>\n",
       "      <td>NaN</td>\n",
       "      <td>66487</td>\n",
       "    </tr>\n",
       "    <tr>\n",
       "      <th>2</th>\n",
       "      <td>2</td>\n",
       "      <td>2</td>\n",
       "      <td>2</td>\n",
       "      <td>1.32E+18</td>\n",
       "      <td>v1320089244631769089</td>\n",
       "      <td>Carolwa35933143</td>\n",
       "      <td>RT @kvwatchtay7: Breaking: The WHO say Covid19...</td>\n",
       "      <td>Sat Oct 24 19:46:16 +0000 2020</td>\n",
       "      <td>NaN</td>\n",
       "      <td>1.18E+18</td>\n",
       "      <td>...</td>\n",
       "      <td>http://twitter.com/Carolwa35933143/statuses/13...</td>\n",
       "      <td>8060</td>\n",
       "      <td>NaN</td>\n",
       "      <td>Happy granny with an opinion ! not one I feel ...</td>\n",
       "      <td>Wed Oct 02 05:52:13 +0000 2019</td>\n",
       "      <td>1</td>\n",
       "      <td>7868</td>\n",
       "      <td>NaN</td>\n",
       "      <td>NaN</td>\n",
       "      <td>27495</td>\n",
       "    </tr>\n",
       "    <tr>\n",
       "      <th>3</th>\n",
       "      <td>3</td>\n",
       "      <td>3</td>\n",
       "      <td>3</td>\n",
       "      <td>1.32E+18</td>\n",
       "      <td>v1320094246314139648</td>\n",
       "      <td>realBenTalks</td>\n",
       "      <td>County offering free flu vaccination clinics, ...</td>\n",
       "      <td>Sat Oct 24 20:06:09 +0000 2020</td>\n",
       "      <td>NaN</td>\n",
       "      <td>226310002</td>\n",
       "      <td>...</td>\n",
       "      <td>http://twitter.com/realBenTalks/statuses/13200...</td>\n",
       "      <td>NaN</td>\n",
       "      <td>NaN</td>\n",
       "      <td>#Information #Scientist | MLIS @UWM | #IT &amp; #M...</td>\n",
       "      <td>Mon Dec 13 21:24:29 +0000 2010</td>\n",
       "      <td>3193</td>\n",
       "      <td>972305</td>\n",
       "      <td>http://abs.twimg.com/images/themes/theme1/bg.png</td>\n",
       "      <td>NaN</td>\n",
       "      <td>66487</td>\n",
       "    </tr>\n",
       "    <tr>\n",
       "      <th>4</th>\n",
       "      <td>4</td>\n",
       "      <td>4</td>\n",
       "      <td>4</td>\n",
       "      <td>1.32E+18</td>\n",
       "      <td>v1320093393360400384</td>\n",
       "      <td>pavsmith</td>\n",
       "      <td>RT @Rosewind2007: I’d add that I’m not saying ...</td>\n",
       "      <td>Sat Oct 24 20:02:45 +0000 2020</td>\n",
       "      <td>NaN</td>\n",
       "      <td>75338695</td>\n",
       "      <td>...</td>\n",
       "      <td>http://twitter.com/pavsmith/statuses/132009339...</td>\n",
       "      <td>2</td>\n",
       "      <td>NaN</td>\n",
       "      <td>An autonomous anarcho syndicalist collective o...</td>\n",
       "      <td>Fri Sep 18 17:41:24 +0000 2009</td>\n",
       "      <td>28</td>\n",
       "      <td>32485</td>\n",
       "      <td>http://abs.twimg.com/images/themes/theme1/bg.png</td>\n",
       "      <td>NaN</td>\n",
       "      <td>5930</td>\n",
       "    </tr>\n",
       "  </tbody>\n",
       "</table>\n",
       "<p>5 rows × 24 columns</p>\n",
       "</div>"
      ],
      "text/plain": [
       "  Unnamed: 0 Unnamed: 0.1 Unnamed: 0.1.1    id_str         letter_id_str  \\\n",
       "0          0            0              0  1.32E+18  v1320095827738624000   \n",
       "1          1            1              1  1.32E+18  v1320089561159094273   \n",
       "2          2            2              2  1.32E+18  v1320089244631769089   \n",
       "3          3            3              3  1.32E+18  v1320094246314139648   \n",
       "4          4            4              4  1.32E+18  v1320093393360400384   \n",
       "\n",
       "         from_user                                               text  \\\n",
       "0     theluthier63  RT @davietweetsc: Gulf War Syndrome: Documents...   \n",
       "1     realBenTalks  Governor Cuomo Announces Draft New York State ...   \n",
       "2  Carolwa35933143  RT @kvwatchtay7: Breaking: The WHO say Covid19...   \n",
       "3     realBenTalks  County offering free flu vaccination clinics, ...   \n",
       "4         pavsmith  RT @Rosewind2007: I’d add that I’m not saying ...   \n",
       "\n",
       "                       created_at user_lang from_user_id_str  ...  \\\n",
       "0  Sat Oct 24 20:12:26 +0000 2020       NaN         9.03E+17  ...   \n",
       "1  Sat Oct 24 19:47:32 +0000 2020       NaN        226310002  ...   \n",
       "2  Sat Oct 24 19:46:16 +0000 2020       NaN         1.18E+18  ...   \n",
       "3  Sat Oct 24 20:06:09 +0000 2020       NaN        226310002  ...   \n",
       "4  Sat Oct 24 20:02:45 +0000 2020       NaN         75338695  ...   \n",
       "\n",
       "                                          status_url retweet_count  \\\n",
       "0  http://twitter.com/theluthier63/statuses/13200...             2   \n",
       "1  http://twitter.com/realBenTalks/statuses/13200...           NaN   \n",
       "2  http://twitter.com/Carolwa35933143/statuses/13...          8060   \n",
       "3  http://twitter.com/realBenTalks/statuses/13200...           NaN   \n",
       "4  http://twitter.com/pavsmith/statuses/132009339...             2   \n",
       "\n",
       "  favorite_count                                   user_description  \\\n",
       "0            NaN  falklands Gulf war 1 veteran Sir Galahad  surv...   \n",
       "1            NaN  #Information #Scientist | MLIS @UWM | #IT & #M...   \n",
       "2            NaN  Happy granny with an opinion ! not one I feel ...   \n",
       "3            NaN  #Information #Scientist | MLIS @UWM | #IT & #M...   \n",
       "4            NaN  An autonomous anarcho syndicalist collective o...   \n",
       "\n",
       "                  user_created_at user_listed_count user_statuses _count  \\\n",
       "0  Tue Aug 29 14:36:09 +0000 2017               NaN                35836   \n",
       "1  Mon Dec 13 21:24:29 +0000 2010              3193               972305   \n",
       "2  Wed Oct 02 05:52:13 +0000 2019                 1                 7868   \n",
       "3  Mon Dec 13 21:24:29 +0000 2010              3193               972305   \n",
       "4  Fri Sep 18 17:41:24 +0000 2009                28                32485   \n",
       "\n",
       "                  user_profile_background_image_url user_verified  \\\n",
       "0                                               NaN           NaN   \n",
       "1  http://abs.twimg.com/images/themes/theme1/bg.png           NaN   \n",
       "2                                               NaN           NaN   \n",
       "3  http://abs.twimg.com/images/themes/theme1/bg.png           NaN   \n",
       "4  http://abs.twimg.com/images/themes/theme1/bg.png           NaN   \n",
       "\n",
       "  user_favourites_count  \n",
       "0                 41994  \n",
       "1                 66487  \n",
       "2                 27495  \n",
       "3                 66487  \n",
       "4                  5930  \n",
       "\n",
       "[5 rows x 24 columns]"
      ]
     },
     "execution_count": 3,
     "metadata": {},
     "output_type": "execute_result"
    }
   ],
   "source": [
    "hydrated.head()"
   ]
  },
  {
   "cell_type": "code",
   "execution_count": 4,
   "metadata": {},
   "outputs": [
    {
     "data": {
      "text/html": [
       "<div>\n",
       "<style scoped>\n",
       "    .dataframe tbody tr th:only-of-type {\n",
       "        vertical-align: middle;\n",
       "    }\n",
       "\n",
       "    .dataframe tbody tr th {\n",
       "        vertical-align: top;\n",
       "    }\n",
       "\n",
       "    .dataframe thead th {\n",
       "        text-align: right;\n",
       "    }\n",
       "</style>\n",
       "<table border=\"1\" class=\"dataframe\">\n",
       "  <thead>\n",
       "    <tr style=\"text-align: right;\">\n",
       "      <th></th>\n",
       "      <th>Unnamed: 0</th>\n",
       "      <th>Unnamed: 0.1</th>\n",
       "      <th>Unnamed: 0.1.1</th>\n",
       "      <th>id_str</th>\n",
       "      <th>letter_id_str</th>\n",
       "      <th>from_user</th>\n",
       "      <th>text</th>\n",
       "      <th>created_at</th>\n",
       "      <th>user_lang</th>\n",
       "      <th>from_user_id_str</th>\n",
       "      <th>...</th>\n",
       "      <th>status_url</th>\n",
       "      <th>retweet_count</th>\n",
       "      <th>favorite_count</th>\n",
       "      <th>user_description</th>\n",
       "      <th>user_created_at</th>\n",
       "      <th>user_listed_count</th>\n",
       "      <th>user_statuses _count</th>\n",
       "      <th>user_profile_background_image_url</th>\n",
       "      <th>user_verified</th>\n",
       "      <th>user_favourites_count</th>\n",
       "    </tr>\n",
       "  </thead>\n",
       "  <tbody>\n",
       "    <tr>\n",
       "      <th>count</th>\n",
       "      <td>292271</td>\n",
       "      <td>292271</td>\n",
       "      <td>292271</td>\n",
       "      <td>292271</td>\n",
       "      <td>292270</td>\n",
       "      <td>292271</td>\n",
       "      <td>292270</td>\n",
       "      <td>292255</td>\n",
       "      <td>4</td>\n",
       "      <td>292255</td>\n",
       "      <td>...</td>\n",
       "      <td>292255</td>\n",
       "      <td>196636</td>\n",
       "      <td>57054</td>\n",
       "      <td>258379</td>\n",
       "      <td>292247</td>\n",
       "      <td>224935</td>\n",
       "      <td>292247</td>\n",
       "      <td>203034</td>\n",
       "      <td>16470</td>\n",
       "      <td>289120</td>\n",
       "    </tr>\n",
       "    <tr>\n",
       "      <th>unique</th>\n",
       "      <td>292271</td>\n",
       "      <td>292271</td>\n",
       "      <td>203827</td>\n",
       "      <td>120404</td>\n",
       "      <td>292270</td>\n",
       "      <td>167161</td>\n",
       "      <td>157027</td>\n",
       "      <td>270635</td>\n",
       "      <td>4</td>\n",
       "      <td>135154</td>\n",
       "      <td>...</td>\n",
       "      <td>292255</td>\n",
       "      <td>592</td>\n",
       "      <td>737</td>\n",
       "      <td>148310</td>\n",
       "      <td>166770</td>\n",
       "      <td>4079</td>\n",
       "      <td>80836</td>\n",
       "      <td>20</td>\n",
       "      <td>2</td>\n",
       "      <td>95241</td>\n",
       "    </tr>\n",
       "    <tr>\n",
       "      <th>top</th>\n",
       "      <td>427813</td>\n",
       "      <td>427813</td>\n",
       "      <td>8962</td>\n",
       "      <td>1.33E+18</td>\n",
       "      <td>v1327464791351328768</td>\n",
       "      <td>realBenTalks</td>\n",
       "      <td>RT @pfizer: UPDATE: We are proud to announce, ...</td>\n",
       "      <td>Thu Dec 10 01:04:34 +0000 2020</td>\n",
       "      <td>48030</td>\n",
       "      <td>226310002</td>\n",
       "      <td>...</td>\n",
       "      <td>http://twitter.com/LseNeon/statuses/1322875054...</td>\n",
       "      <td>1</td>\n",
       "      <td>1</td>\n",
       "      <td>#Information #Scientist | MLIS @UWM | #IT &amp; #M...</td>\n",
       "      <td>Mon Dec 13 21:24:29 +0000 2010</td>\n",
       "      <td>1</td>\n",
       "      <td>972305</td>\n",
       "      <td>http://abs.twimg.com/images/themes/theme1/bg.png</td>\n",
       "      <td>TRUE</td>\n",
       "      <td>66487</td>\n",
       "    </tr>\n",
       "    <tr>\n",
       "      <th>freq</th>\n",
       "      <td>1</td>\n",
       "      <td>1</td>\n",
       "      <td>2</td>\n",
       "      <td>105940</td>\n",
       "      <td>1</td>\n",
       "      <td>2671</td>\n",
       "      <td>6664</td>\n",
       "      <td>13</td>\n",
       "      <td>1</td>\n",
       "      <td>2671</td>\n",
       "      <td>...</td>\n",
       "      <td>1</td>\n",
       "      <td>17766</td>\n",
       "      <td>12998</td>\n",
       "      <td>1412</td>\n",
       "      <td>2671</td>\n",
       "      <td>15185</td>\n",
       "      <td>1206</td>\n",
       "      <td>143351</td>\n",
       "      <td>9420</td>\n",
       "      <td>1222</td>\n",
       "    </tr>\n",
       "  </tbody>\n",
       "</table>\n",
       "<p>4 rows × 24 columns</p>\n",
       "</div>"
      ],
      "text/plain": [
       "       Unnamed: 0 Unnamed: 0.1 Unnamed: 0.1.1    id_str         letter_id_str  \\\n",
       "count      292271       292271         292271    292271                292270   \n",
       "unique     292271       292271         203827    120404                292270   \n",
       "top        427813       427813           8962  1.33E+18  v1327464791351328768   \n",
       "freq            1            1              2    105940                     1   \n",
       "\n",
       "           from_user                                               text  \\\n",
       "count         292271                                             292270   \n",
       "unique        167161                                             157027   \n",
       "top     realBenTalks  RT @pfizer: UPDATE: We are proud to announce, ...   \n",
       "freq            2671                                               6664   \n",
       "\n",
       "                            created_at user_lang from_user_id_str  ...  \\\n",
       "count                           292255         4           292255  ...   \n",
       "unique                          270635         4           135154  ...   \n",
       "top     Thu Dec 10 01:04:34 +0000 2020     48030        226310002  ...   \n",
       "freq                                13         1             2671  ...   \n",
       "\n",
       "                                               status_url retweet_count  \\\n",
       "count                                              292255        196636   \n",
       "unique                                             292255           592   \n",
       "top     http://twitter.com/LseNeon/statuses/1322875054...             1   \n",
       "freq                                                    1         17766   \n",
       "\n",
       "       favorite_count                                   user_description  \\\n",
       "count           57054                                             258379   \n",
       "unique            737                                             148310   \n",
       "top                 1  #Information #Scientist | MLIS @UWM | #IT & #M...   \n",
       "freq            12998                                               1412   \n",
       "\n",
       "                       user_created_at user_listed_count user_statuses _count  \\\n",
       "count                           292247            224935               292247   \n",
       "unique                          166770              4079                80836   \n",
       "top     Mon Dec 13 21:24:29 +0000 2010                 1               972305   \n",
       "freq                              2671             15185                 1206   \n",
       "\n",
       "                       user_profile_background_image_url user_verified  \\\n",
       "count                                             203034         16470   \n",
       "unique                                                20             2   \n",
       "top     http://abs.twimg.com/images/themes/theme1/bg.png          TRUE   \n",
       "freq                                              143351          9420   \n",
       "\n",
       "       user_favourites_count  \n",
       "count                 289120  \n",
       "unique                 95241  \n",
       "top                    66487  \n",
       "freq                    1222  \n",
       "\n",
       "[4 rows x 24 columns]"
      ]
     },
     "execution_count": 4,
     "metadata": {},
     "output_type": "execute_result"
    }
   ],
   "source": [
    "hydrated.describe()"
   ]
  },
  {
   "cell_type": "code",
   "execution_count": 3,
   "metadata": {
    "scrolled": true
   },
   "outputs": [
    {
     "name": "stdout",
     "output_type": "stream",
     "text": [
      "<class 'pandas.core.frame.DataFrame'>\n",
      "RangeIndex: 292271 entries, 0 to 292270\n",
      "Data columns (total 24 columns):\n",
      "Unnamed: 0                           292271 non-null object\n",
      "Unnamed: 0.1                         292271 non-null object\n",
      "Unnamed: 0.1.1                       292271 non-null object\n",
      "id_str                               292271 non-null object\n",
      "letter_id_str                        292270 non-null object\n",
      "from_user                            292271 non-null object\n",
      "text                                 292270 non-null object\n",
      "created_at                           292255 non-null object\n",
      "user_lang                            4 non-null object\n",
      "from_user_id_str                     292255 non-null object\n",
      "profile_image_url                    292239 non-null object\n",
      "user_followers_count                 291496 non-null object\n",
      "user_friends_count                   290225 non-null object\n",
      "user_location                        213873 non-null object\n",
      "status_url                           292255 non-null object\n",
      "retweet_count                        196636 non-null object\n",
      "favorite_count                       57054 non-null object\n",
      "user_description                     258379 non-null object\n",
      "user_created_at                      292247 non-null object\n",
      "user_listed_count                    224935 non-null object\n",
      "user_statuses _count                 292247 non-null object\n",
      "user_profile_background_image_url    203034 non-null object\n",
      "user_verified                        16470 non-null object\n",
      "user_favourites_count                289120 non-null object\n",
      "dtypes: object(24)\n",
      "memory usage: 53.5+ MB\n"
     ]
    }
   ],
   "source": [
    "hydrated.info()"
   ]
  },
  {
   "cell_type": "code",
   "execution_count": 4,
   "metadata": {},
   "outputs": [],
   "source": [
    "#converting to float\n",
    "\n",
    "hydrated[\"retweet_count\"] = pd.to_numeric(hydrated[\"retweet_count\"], downcast=\"float\")\n",
    "                                                   \n",
    "hydrated[\"favorite_count\"] = pd.to_numeric(hydrated[\"favorite_count\"], downcast=\"float\")\n",
    "                                                   \n",
    "hydrated[\"user_listed_count\"] = pd.to_numeric(hydrated[\"user_listed_count\"],downcast=\"float\")\n",
    "\n",
    "hydrated[\"user_statuses_count\"] = pd.to_numeric(hydrated[\"user_statuses _count\"], downcast=\"float\")\n",
    "     \n",
    "hydrated[\"user_favorites_count\"] = pd.to_numeric(hydrated[\"user_favourites_count\"], downcast=\"float\")"
   ]
  },
  {
   "cell_type": "code",
   "execution_count": 5,
   "metadata": {
    "scrolled": true
   },
   "outputs": [
    {
     "name": "stdout",
     "output_type": "stream",
     "text": [
      "<class 'pandas.core.frame.DataFrame'>\n",
      "RangeIndex: 292271 entries, 0 to 292270\n",
      "Data columns (total 26 columns):\n",
      "Unnamed: 0                           292271 non-null object\n",
      "Unnamed: 0.1                         292271 non-null object\n",
      "Unnamed: 0.1.1                       292271 non-null object\n",
      "id_str                               292271 non-null object\n",
      "letter_id_str                        292270 non-null object\n",
      "from_user                            292271 non-null object\n",
      "text                                 292270 non-null object\n",
      "created_at                           292255 non-null object\n",
      "user_lang                            4 non-null object\n",
      "from_user_id_str                     292255 non-null object\n",
      "profile_image_url                    292239 non-null object\n",
      "user_followers_count                 291496 non-null object\n",
      "user_friends_count                   290225 non-null object\n",
      "user_location                        213873 non-null object\n",
      "status_url                           292255 non-null object\n",
      "retweet_count                        196636 non-null float32\n",
      "favorite_count                       57054 non-null float32\n",
      "user_description                     258379 non-null object\n",
      "user_created_at                      292247 non-null object\n",
      "user_listed_count                    224935 non-null float32\n",
      "user_statuses _count                 292247 non-null object\n",
      "user_profile_background_image_url    203034 non-null object\n",
      "user_verified                        16470 non-null object\n",
      "user_favourites_count                289120 non-null object\n",
      "user_statuses_count                  292247 non-null float32\n",
      "user_favorites_count                 289120 non-null float32\n",
      "dtypes: float32(5), object(21)\n",
      "memory usage: 52.4+ MB\n"
     ]
    }
   ],
   "source": [
    "hydrated.info()"
   ]
  },
  {
   "cell_type": "code",
   "execution_count": 6,
   "metadata": {},
   "outputs": [],
   "source": [
    "# Here .astype() will cast all df object as \"true\", instead we can use \"==\" to match if the content is true\n",
    "# hydrated['user_verified'] = hydrated['user_verified'].astype('bool')\n",
    "hydrated['user_verified'] = hydrated['user_verified']==\"True\""
   ]
  },
  {
   "cell_type": "code",
   "execution_count": 7,
   "metadata": {},
   "outputs": [
    {
     "name": "stdout",
     "output_type": "stream",
     "text": [
      "<class 'pandas.core.frame.DataFrame'>\n",
      "RangeIndex: 292271 entries, 0 to 292270\n",
      "Data columns (total 26 columns):\n",
      "Unnamed: 0                           292271 non-null object\n",
      "Unnamed: 0.1                         292271 non-null object\n",
      "Unnamed: 0.1.1                       292271 non-null object\n",
      "id_str                               292271 non-null object\n",
      "letter_id_str                        292270 non-null object\n",
      "from_user                            292271 non-null object\n",
      "text                                 292270 non-null object\n",
      "created_at                           292255 non-null object\n",
      "user_lang                            4 non-null object\n",
      "from_user_id_str                     292255 non-null object\n",
      "profile_image_url                    292239 non-null object\n",
      "user_followers_count                 291496 non-null object\n",
      "user_friends_count                   290225 non-null object\n",
      "user_location                        213873 non-null object\n",
      "status_url                           292255 non-null object\n",
      "retweet_count                        196636 non-null float32\n",
      "favorite_count                       57054 non-null float32\n",
      "user_description                     258379 non-null object\n",
      "user_created_at                      292247 non-null object\n",
      "user_listed_count                    224935 non-null float32\n",
      "user_statuses _count                 292247 non-null object\n",
      "user_profile_background_image_url    203034 non-null object\n",
      "user_verified                        292271 non-null bool\n",
      "user_favourites_count                289120 non-null object\n",
      "user_statuses_count                  292247 non-null float32\n",
      "user_favorites_count                 289120 non-null float32\n",
      "dtypes: bool(1), float32(5), object(20)\n",
      "memory usage: 50.5+ MB\n"
     ]
    }
   ],
   "source": [
    "hydrated.info()"
   ]
  },
  {
   "cell_type": "code",
   "execution_count": 8,
   "metadata": {},
   "outputs": [
    {
     "name": "stdout",
     "output_type": "stream",
     "text": [
      "901259\n"
     ]
    }
   ],
   "source": [
    "# Don't seem to need this, if we want the sum of the verified user we can count df directly\n",
    "# print(hydrated.isnull().values.sum())\n",
    "hydrated['user_verified'].value_counts()\n",
    "\n",
    "#if I needed to convert to NaN, or a \"float\"\n",
    "#https://www.analyticsvidhya.com/blog/2020/08/exploratory-data-analysiseda-from-scratch-in-python/ "
   ]
  },
  {
   "cell_type": "code",
   "execution_count": 9,
   "metadata": {},
   "outputs": [
    {
     "data": {
      "text/plain": [
       "array([ True,  True,  True, ...,  True,  True,  True])"
      ]
     },
     "execution_count": 9,
     "metadata": {},
     "output_type": "execute_result"
    }
   ],
   "source": [
    "# We can also group it by selecting id_str or letter_id_str to see how many unique entires\n",
    "hydrated.groupby('user_verified')[['id_str','letter_id_str']].nunique()\n"
   ]
  },
  {
   "cell_type": "code",
   "execution_count": 19,
   "metadata": {},
   "outputs": [
    {
     "name": "stderr",
     "output_type": "stream",
     "text": [
      "C:\\Users\\sewal\\AppData\\Local\\Continuum\\anaconda3\\lib\\site-packages\\numpy\\lib\\histograms.py:824: RuntimeWarning: invalid value encountered in greater_equal\n",
      "  keep = (tmp_a >= first_edge)\n",
      "C:\\Users\\sewal\\AppData\\Local\\Continuum\\anaconda3\\lib\\site-packages\\numpy\\lib\\histograms.py:825: RuntimeWarning: invalid value encountered in less_equal\n",
      "  keep &= (tmp_a <= last_edge)\n"
     ]
    },
    {
     "data": {
      "text/plain": [
       "Text(0, 0.5, 'Count')"
      ]
     },
     "execution_count": 19,
     "metadata": {},
     "output_type": "execute_result"
    },
    {
     "data": {
      "image/png": "[encoded data removed]",
      "text/plain": [
       "<Figure size 432x288 with 1 Axes>"
      ]
     },
     "metadata": {
      "needs_background": "light"
     },
     "output_type": "display_data"
    }
   ],
   "source": [
    "# seaborn histogram \n",
    "\n",
    "#not really sure what categories will be useful/possible here\n",
    "sns.distplot(hydrated['user_listed_count'], hist=True, kde=False, \n",
    "             bins=9, color = 'blue',\n",
    "             hist_kws={'edgecolor':'black'})\n",
    "# Add labels\n",
    "plt.title('User Listed?')\n",
    "plt.xlabel('user_listed_count')\n",
    "plt.ylabel('Count')"
   ]
  },
  {
   "cell_type": "code",
   "execution_count": 35,
   "metadata": {
    "scrolled": false
   },
   "outputs": [
    {
     "data": {
      "text/plain": [
       "<matplotlib.axes._subplots.AxesSubplot at 0x25216f0c400>"
      ]
     },
     "execution_count": 35,
     "metadata": {},
     "output_type": "execute_result"
    },
    {
     "data": {
      "image/png": "[encoded data removed]",
      "text/plain": [
       "<Figure size 432x288 with 1 Axes>"
      ]
     },
     "metadata": {
      "needs_background": "light"
     },
     "output_type": "display_data"
    }
   ],
   "source": [
    "sns.scatterplot(x=np.linspace(1,292271, num=292271), y=hydrated['user_verified'])\n",
    "#(x=hydrated['user_verified'],\n",
    "                #y=hydrated['user_statuses_count'])"
   ]
  },
  {
   "cell_type": "code",
   "execution_count": 27,
   "metadata": {},
   "outputs": [
    {
     "ename": "KeyError",
     "evalue": "False",
     "output_type": "error",
     "traceback": [
      "\u001B[1;31m---------------------------------------------------------------------------\u001B[0m",
      "\u001B[1;31mKeyError\u001B[0m                                  Traceback (most recent call last)",
      "\u001B[1;32m~\\AppData\\Local\\Continuum\\anaconda3\\lib\\site-packages\\pandas\\core\\indexes\\base.py\u001B[0m in \u001B[0;36mget_loc\u001B[1;34m(self, key, method, tolerance)\u001B[0m\n\u001B[0;32m   2656\u001B[0m             \u001B[1;32mtry\u001B[0m\u001B[1;33m:\u001B[0m\u001B[1;33m\u001B[0m\u001B[1;33m\u001B[0m\u001B[0m\n\u001B[1;32m-> 2657\u001B[1;33m                 \u001B[1;32mreturn\u001B[0m \u001B[0mself\u001B[0m\u001B[1;33m.\u001B[0m\u001B[0m_engine\u001B[0m\u001B[1;33m.\u001B[0m\u001B[0mget_loc\u001B[0m\u001B[1;33m(\u001B[0m\u001B[0mkey\u001B[0m\u001B[1;33m)\u001B[0m\u001B[1;33m\u001B[0m\u001B[1;33m\u001B[0m\u001B[0m\n\u001B[0m\u001B[0;32m   2658\u001B[0m             \u001B[1;32mexcept\u001B[0m \u001B[0mKeyError\u001B[0m\u001B[1;33m:\u001B[0m\u001B[1;33m\u001B[0m\u001B[1;33m\u001B[0m\u001B[0m\n",
      "\u001B[1;32mpandas/_libs/index.pyx\u001B[0m in \u001B[0;36mpandas._libs.index.IndexEngine.get_loc\u001B[1;34m()\u001B[0m\n",
      "\u001B[1;32mpandas/_libs/index.pyx\u001B[0m in \u001B[0;36mpandas._libs.index.IndexEngine.get_loc\u001B[1;34m()\u001B[0m\n",
      "\u001B[1;32mpandas/_libs/hashtable_class_helper.pxi\u001B[0m in \u001B[0;36mpandas._libs.hashtable.PyObjectHashTable.get_item\u001B[1;34m()\u001B[0m\n",
      "\u001B[1;32mpandas/_libs/hashtable_class_helper.pxi\u001B[0m in \u001B[0;36mpandas._libs.hashtable.PyObjectHashTable.get_item\u001B[1;34m()\u001B[0m\n",
      "\u001B[1;31mKeyError\u001B[0m: False",
      "\nDuring handling of the above exception, another exception occurred:\n",
      "\u001B[1;31mKeyError\u001B[0m                                  Traceback (most recent call last)",
      "\u001B[1;32m<ipython-input-27-c9afec9c5bc4>\u001B[0m in \u001B[0;36m<module>\u001B[1;34m\u001B[0m\n\u001B[1;32m----> 1\u001B[1;33m \u001B[0mprint\u001B[0m\u001B[1;33m(\u001B[0m\u001B[0mhydrated\u001B[0m\u001B[1;33m[\u001B[0m\u001B[1;34m\"user_verified\"\u001B[0m\u001B[1;33m==\u001B[0m\u001B[1;36m1\u001B[0m\u001B[1;33m]\u001B[0m\u001B[1;33m)\u001B[0m\u001B[1;33m\u001B[0m\u001B[1;33m\u001B[0m\u001B[0m\n\u001B[0m",
      "\u001B[1;32m~\\AppData\\Local\\Continuum\\anaconda3\\lib\\site-packages\\pandas\\core\\frame.py\u001B[0m in \u001B[0;36m__getitem__\u001B[1;34m(self, key)\u001B[0m\n\u001B[0;32m   2925\u001B[0m             \u001B[1;32mif\u001B[0m \u001B[0mself\u001B[0m\u001B[1;33m.\u001B[0m\u001B[0mcolumns\u001B[0m\u001B[1;33m.\u001B[0m\u001B[0mnlevels\u001B[0m \u001B[1;33m>\u001B[0m \u001B[1;36m1\u001B[0m\u001B[1;33m:\u001B[0m\u001B[1;33m\u001B[0m\u001B[1;33m\u001B[0m\u001B[0m\n\u001B[0;32m   2926\u001B[0m                 \u001B[1;32mreturn\u001B[0m \u001B[0mself\u001B[0m\u001B[1;33m.\u001B[0m\u001B[0m_getitem_multilevel\u001B[0m\u001B[1;33m(\u001B[0m\u001B[0mkey\u001B[0m\u001B[1;33m)\u001B[0m\u001B[1;33m\u001B[0m\u001B[1;33m\u001B[0m\u001B[0m\n\u001B[1;32m-> 2927\u001B[1;33m             \u001B[0mindexer\u001B[0m \u001B[1;33m=\u001B[0m \u001B[0mself\u001B[0m\u001B[1;33m.\u001B[0m\u001B[0mcolumns\u001B[0m\u001B[1;33m.\u001B[0m\u001B[0mget_loc\u001B[0m\u001B[1;33m(\u001B[0m\u001B[0mkey\u001B[0m\u001B[1;33m)\u001B[0m\u001B[1;33m\u001B[0m\u001B[1;33m\u001B[0m\u001B[0m\n\u001B[0m\u001B[0;32m   2928\u001B[0m             \u001B[1;32mif\u001B[0m \u001B[0mis_integer\u001B[0m\u001B[1;33m(\u001B[0m\u001B[0mindexer\u001B[0m\u001B[1;33m)\u001B[0m\u001B[1;33m:\u001B[0m\u001B[1;33m\u001B[0m\u001B[1;33m\u001B[0m\u001B[0m\n\u001B[0;32m   2929\u001B[0m                 \u001B[0mindexer\u001B[0m \u001B[1;33m=\u001B[0m \u001B[1;33m[\u001B[0m\u001B[0mindexer\u001B[0m\u001B[1;33m]\u001B[0m\u001B[1;33m\u001B[0m\u001B[1;33m\u001B[0m\u001B[0m\n",
      "\u001B[1;32m~\\AppData\\Local\\Continuum\\anaconda3\\lib\\site-packages\\pandas\\core\\indexes\\base.py\u001B[0m in \u001B[0;36mget_loc\u001B[1;34m(self, key, method, tolerance)\u001B[0m\n\u001B[0;32m   2657\u001B[0m                 \u001B[1;32mreturn\u001B[0m \u001B[0mself\u001B[0m\u001B[1;33m.\u001B[0m\u001B[0m_engine\u001B[0m\u001B[1;33m.\u001B[0m\u001B[0mget_loc\u001B[0m\u001B[1;33m(\u001B[0m\u001B[0mkey\u001B[0m\u001B[1;33m)\u001B[0m\u001B[1;33m\u001B[0m\u001B[1;33m\u001B[0m\u001B[0m\n\u001B[0;32m   2658\u001B[0m             \u001B[1;32mexcept\u001B[0m \u001B[0mKeyError\u001B[0m\u001B[1;33m:\u001B[0m\u001B[1;33m\u001B[0m\u001B[1;33m\u001B[0m\u001B[0m\n\u001B[1;32m-> 2659\u001B[1;33m                 \u001B[1;32mreturn\u001B[0m \u001B[0mself\u001B[0m\u001B[1;33m.\u001B[0m\u001B[0m_engine\u001B[0m\u001B[1;33m.\u001B[0m\u001B[0mget_loc\u001B[0m\u001B[1;33m(\u001B[0m\u001B[0mself\u001B[0m\u001B[1;33m.\u001B[0m\u001B[0m_maybe_cast_indexer\u001B[0m\u001B[1;33m(\u001B[0m\u001B[0mkey\u001B[0m\u001B[1;33m)\u001B[0m\u001B[1;33m)\u001B[0m\u001B[1;33m\u001B[0m\u001B[1;33m\u001B[0m\u001B[0m\n\u001B[0m\u001B[0;32m   2660\u001B[0m         \u001B[0mindexer\u001B[0m \u001B[1;33m=\u001B[0m \u001B[0mself\u001B[0m\u001B[1;33m.\u001B[0m\u001B[0mget_indexer\u001B[0m\u001B[1;33m(\u001B[0m\u001B[1;33m[\u001B[0m\u001B[0mkey\u001B[0m\u001B[1;33m]\u001B[0m\u001B[1;33m,\u001B[0m \u001B[0mmethod\u001B[0m\u001B[1;33m=\u001B[0m\u001B[0mmethod\u001B[0m\u001B[1;33m,\u001B[0m \u001B[0mtolerance\u001B[0m\u001B[1;33m=\u001B[0m\u001B[0mtolerance\u001B[0m\u001B[1;33m)\u001B[0m\u001B[1;33m\u001B[0m\u001B[1;33m\u001B[0m\u001B[0m\n\u001B[0;32m   2661\u001B[0m         \u001B[1;32mif\u001B[0m \u001B[0mindexer\u001B[0m\u001B[1;33m.\u001B[0m\u001B[0mndim\u001B[0m \u001B[1;33m>\u001B[0m \u001B[1;36m1\u001B[0m \u001B[1;32mor\u001B[0m \u001B[0mindexer\u001B[0m\u001B[1;33m.\u001B[0m\u001B[0msize\u001B[0m \u001B[1;33m>\u001B[0m \u001B[1;36m1\u001B[0m\u001B[1;33m:\u001B[0m\u001B[1;33m\u001B[0m\u001B[1;33m\u001B[0m\u001B[0m\n",
      "\u001B[1;32mpandas/_libs/index.pyx\u001B[0m in \u001B[0;36mpandas._libs.index.IndexEngine.get_loc\u001B[1;34m()\u001B[0m\n",
      "\u001B[1;32mpandas/_libs/index.pyx\u001B[0m in \u001B[0;36mpandas._libs.index.IndexEngine.get_loc\u001B[1;34m()\u001B[0m\n",
      "\u001B[1;32mpandas/_libs/hashtable_class_helper.pxi\u001B[0m in \u001B[0;36mpandas._libs.hashtable.PyObjectHashTable.get_item\u001B[1;34m()\u001B[0m\n",
      "\u001B[1;32mpandas/_libs/hashtable_class_helper.pxi\u001B[0m in \u001B[0;36mpandas._libs.hashtable.PyObjectHashTable.get_item\u001B[1;34m()\u001B[0m\n",
      "\u001B[1;31mKeyError\u001B[0m: False"
     ]
    }
   ],
   "source": [
    "print(hydrated[\"user_verified\"==1])"
   ]
  },
  {
   "cell_type": "code",
   "execution_count": 25,
   "metadata": {},
   "outputs": [
    {
     "data": {
      "image/png": "[encoded data removed]",
      "text/plain": [
       "<Figure size 1152x864 with 2 Axes>"
      ]
     },
     "metadata": {
      "needs_background": "light"
     },
     "output_type": "display_data"
    }
   ],
   "source": [
    "#Heat map pearson correlation matrix\n",
    "corrmat = hydrated.corr()\n",
    "f, ax = plt.subplots(figsize=(16, 12))\n",
    "sns.heatmap(corrmat, vmax=.8, square=True);\n",
    "\n",
    "#Light color, i.e., see on the right, scale 0.8 is highly correlated, \n",
    "#and darker color below or around -0.2 is not correlated."
   ]
  },
  {
   "cell_type": "code",
   "execution_count": 12,
   "metadata": {},
   "outputs": [
    {
     "data": {
      "image/png": "[encoded data removed]",
      "text/plain": [
       "<Figure size 2160x2160 with 2 Axes>"
      ]
     },
     "metadata": {
      "needs_background": "light"
     },
     "output_type": "display_data"
    }
   ],
   "source": [
    "# Your heatmap is correct, you just forgot to change the dataframe name from pottermerged --> hydrated\n",
    "plt.figure(figsize=(30,30))\n",
    "plt.title('Pearson Correlation of Features', size = 15)\n",
    "colormap = sns.diverging_palette(10, 220, as_cmap = True)\n",
    "sns.heatmap(hydrated.corr(),\n",
    "            cmap = colormap,\n",
    "            square = True,\n",
    "            annot = True,\n",
    "            linewidths=0.1,vmax=1.0, linecolor='white',\n",
    "            annot_kws={'fontsize':12 })\n",
    "plt.show()\n",
    "\n",
    "#In above correlation matrix, we printed the number also so it will be easy for us \n",
    "#to see which are highly correlated and value close to 1.00 is highly correlated."
   ]
  }
 ],
 "metadata": {
  "kernelspec": {
   "display_name": "Python 3",
   "language": "python",
   "name": "python3"
  },
  "language_info": {
   "codemirror_mode": {
    "name": "ipython",
    "version": 3
   },
   "file_extension": ".py",
   "mimetype": "text/x-python",
   "name": "python",
   "nbconvert_exporter": "python",
   "pygments_lexer": "ipython3",
   "version": "3.7.3"
  }
 },
 "nbformat": 4,
 "nbformat_minor": 2
}